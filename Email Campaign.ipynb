{
 "cells": [
  {
   "cell_type": "code",
   "execution_count": 1,
   "metadata": {},
   "outputs": [],
   "source": [
    "import pandas as pd\n",
    "import matplotlib.pyplot as plt\n",
    "import numpy as np\n",
    "import seaborn as sns\n",
    "from scipy import stats\n",
    "from datetime import datetime\n",
    "\n",
    "import h2o\n",
    "from h2o.frame import H2OFrame\n",
    "from h2o.estimators.random_forest import H2ORandomForestEstimator\n",
    "from sklearn.metrics import auc, roc_curve, classification_report\n",
    "\n",
    "\n",
    "from h2o.estimators.glm import H2OGeneralizedLinearEstimator\n",
    "\n",
    "\n",
    "%matplotlib inline"
   ]
  },
  {
   "cell_type": "markdown",
   "metadata": {},
   "source": [
    "### Load Data"
   ]
  },
  {
   "cell_type": "code",
   "execution_count": 2,
   "metadata": {},
   "outputs": [
    {
     "name": "stdout",
     "output_type": "stream",
     "text": [
      "if it's true, this table doesnt includes duplicates in ID --> True\n"
     ]
    },
    {
     "data": {
      "text/html": [
       "<div>\n",
       "<style scoped>\n",
       "    .dataframe tbody tr th:only-of-type {\n",
       "        vertical-align: middle;\n",
       "    }\n",
       "\n",
       "    .dataframe tbody tr th {\n",
       "        vertical-align: top;\n",
       "    }\n",
       "\n",
       "    .dataframe thead th {\n",
       "        text-align: right;\n",
       "    }\n",
       "</style>\n",
       "<table border=\"1\" class=\"dataframe\">\n",
       "  <thead>\n",
       "    <tr style=\"text-align: right;\">\n",
       "      <th></th>\n",
       "      <th>email_id</th>\n",
       "      <th>email_text</th>\n",
       "      <th>email_version</th>\n",
       "      <th>hour</th>\n",
       "      <th>weekday</th>\n",
       "      <th>user_country</th>\n",
       "      <th>user_past_purchases</th>\n",
       "    </tr>\n",
       "  </thead>\n",
       "  <tbody>\n",
       "    <tr>\n",
       "      <th>0</th>\n",
       "      <td>85120</td>\n",
       "      <td>short_email</td>\n",
       "      <td>personalized</td>\n",
       "      <td>2</td>\n",
       "      <td>Sunday</td>\n",
       "      <td>US</td>\n",
       "      <td>5</td>\n",
       "    </tr>\n",
       "    <tr>\n",
       "      <th>1</th>\n",
       "      <td>966622</td>\n",
       "      <td>long_email</td>\n",
       "      <td>personalized</td>\n",
       "      <td>12</td>\n",
       "      <td>Sunday</td>\n",
       "      <td>UK</td>\n",
       "      <td>2</td>\n",
       "    </tr>\n",
       "    <tr>\n",
       "      <th>2</th>\n",
       "      <td>777221</td>\n",
       "      <td>long_email</td>\n",
       "      <td>personalized</td>\n",
       "      <td>11</td>\n",
       "      <td>Wednesday</td>\n",
       "      <td>US</td>\n",
       "      <td>2</td>\n",
       "    </tr>\n",
       "    <tr>\n",
       "      <th>3</th>\n",
       "      <td>493711</td>\n",
       "      <td>short_email</td>\n",
       "      <td>generic</td>\n",
       "      <td>6</td>\n",
       "      <td>Monday</td>\n",
       "      <td>UK</td>\n",
       "      <td>1</td>\n",
       "    </tr>\n",
       "    <tr>\n",
       "      <th>4</th>\n",
       "      <td>106887</td>\n",
       "      <td>long_email</td>\n",
       "      <td>generic</td>\n",
       "      <td>14</td>\n",
       "      <td>Monday</td>\n",
       "      <td>US</td>\n",
       "      <td>6</td>\n",
       "    </tr>\n",
       "  </tbody>\n",
       "</table>\n",
       "</div>"
      ],
      "text/plain": [
       "   email_id   email_text email_version  hour    weekday user_country  \\\n",
       "0     85120  short_email  personalized     2     Sunday           US   \n",
       "1    966622   long_email  personalized    12     Sunday           UK   \n",
       "2    777221   long_email  personalized    11  Wednesday           US   \n",
       "3    493711  short_email       generic     6     Monday           UK   \n",
       "4    106887   long_email       generic    14     Monday           US   \n",
       "\n",
       "   user_past_purchases  \n",
       "0                    5  \n",
       "1                    2  \n",
       "2                    2  \n",
       "3                    1  \n",
       "4                    6  "
      ]
     },
     "execution_count": 2,
     "metadata": {},
     "output_type": "execute_result"
    }
   ],
   "source": [
    "df_email = pd.read_csv('email_table.csv')\n",
    "print(\"if it's true, this table doesnt includes duplicates in ID -->\",df_email.shape[0] == df_email['email_id'].nunique())\n",
    "df_email.head()\n"
   ]
  },
  {
   "cell_type": "code",
   "execution_count": 3,
   "metadata": {},
   "outputs": [
    {
     "name": "stdout",
     "output_type": "stream",
     "text": [
      "if it's true, this table doesnt includes duplicates in ID --> True\n"
     ]
    },
    {
     "data": {
      "text/html": [
       "<div>\n",
       "<style scoped>\n",
       "    .dataframe tbody tr th:only-of-type {\n",
       "        vertical-align: middle;\n",
       "    }\n",
       "\n",
       "    .dataframe tbody tr th {\n",
       "        vertical-align: top;\n",
       "    }\n",
       "\n",
       "    .dataframe thead th {\n",
       "        text-align: right;\n",
       "    }\n",
       "</style>\n",
       "<table border=\"1\" class=\"dataframe\">\n",
       "  <thead>\n",
       "    <tr style=\"text-align: right;\">\n",
       "      <th></th>\n",
       "      <th>email_id</th>\n",
       "    </tr>\n",
       "  </thead>\n",
       "  <tbody>\n",
       "    <tr>\n",
       "      <th>0</th>\n",
       "      <td>284534</td>\n",
       "    </tr>\n",
       "    <tr>\n",
       "      <th>1</th>\n",
       "      <td>609056</td>\n",
       "    </tr>\n",
       "    <tr>\n",
       "      <th>2</th>\n",
       "      <td>220820</td>\n",
       "    </tr>\n",
       "    <tr>\n",
       "      <th>3</th>\n",
       "      <td>905936</td>\n",
       "    </tr>\n",
       "    <tr>\n",
       "      <th>4</th>\n",
       "      <td>164034</td>\n",
       "    </tr>\n",
       "  </tbody>\n",
       "</table>\n",
       "</div>"
      ],
      "text/plain": [
       "   email_id\n",
       "0    284534\n",
       "1    609056\n",
       "2    220820\n",
       "3    905936\n",
       "4    164034"
      ]
     },
     "execution_count": 3,
     "metadata": {},
     "output_type": "execute_result"
    }
   ],
   "source": [
    "df_email_open = pd.read_csv('email_opened_table.csv')\n",
    "print(\"if it's true, this table doesnt includes duplicates in ID -->\",df_email_open.shape[0] == df_email_open['email_id'].nunique())\n",
    "df_email_open.head()\n"
   ]
  },
  {
   "cell_type": "code",
   "execution_count": 4,
   "metadata": {},
   "outputs": [
    {
     "name": "stdout",
     "output_type": "stream",
     "text": [
      "if it's true, this table doesnt includes duplicates in ID --> True\n"
     ]
    },
    {
     "data": {
      "text/html": [
       "<div>\n",
       "<style scoped>\n",
       "    .dataframe tbody tr th:only-of-type {\n",
       "        vertical-align: middle;\n",
       "    }\n",
       "\n",
       "    .dataframe tbody tr th {\n",
       "        vertical-align: top;\n",
       "    }\n",
       "\n",
       "    .dataframe thead th {\n",
       "        text-align: right;\n",
       "    }\n",
       "</style>\n",
       "<table border=\"1\" class=\"dataframe\">\n",
       "  <thead>\n",
       "    <tr style=\"text-align: right;\">\n",
       "      <th></th>\n",
       "      <th>email_id</th>\n",
       "    </tr>\n",
       "  </thead>\n",
       "  <tbody>\n",
       "    <tr>\n",
       "      <th>0</th>\n",
       "      <td>609056</td>\n",
       "    </tr>\n",
       "    <tr>\n",
       "      <th>1</th>\n",
       "      <td>870980</td>\n",
       "    </tr>\n",
       "    <tr>\n",
       "      <th>2</th>\n",
       "      <td>935124</td>\n",
       "    </tr>\n",
       "    <tr>\n",
       "      <th>3</th>\n",
       "      <td>158501</td>\n",
       "    </tr>\n",
       "    <tr>\n",
       "      <th>4</th>\n",
       "      <td>177561</td>\n",
       "    </tr>\n",
       "  </tbody>\n",
       "</table>\n",
       "</div>"
      ],
      "text/plain": [
       "   email_id\n",
       "0    609056\n",
       "1    870980\n",
       "2    935124\n",
       "3    158501\n",
       "4    177561"
      ]
     },
     "execution_count": 4,
     "metadata": {},
     "output_type": "execute_result"
    }
   ],
   "source": [
    "df_link_click = pd.read_csv('link_clicked_table.csv')\n",
    "print(\"if it's true, this table doesnt includes duplicates in ID -->\",df_link_click.shape[0] == df_link_click['email_id'].nunique())\n",
    "df_link_click.head()\n"
   ]
  },
  {
   "cell_type": "markdown",
   "metadata": {},
   "source": [
    "### Merge tables"
   ]
  },
  {
   "cell_type": "code",
   "execution_count": 5,
   "metadata": {
    "scrolled": true
   },
   "outputs": [
    {
     "data": {
      "text/html": [
       "<div>\n",
       "<style scoped>\n",
       "    .dataframe tbody tr th:only-of-type {\n",
       "        vertical-align: middle;\n",
       "    }\n",
       "\n",
       "    .dataframe tbody tr th {\n",
       "        vertical-align: top;\n",
       "    }\n",
       "\n",
       "    .dataframe thead th {\n",
       "        text-align: right;\n",
       "    }\n",
       "</style>\n",
       "<table border=\"1\" class=\"dataframe\">\n",
       "  <thead>\n",
       "    <tr style=\"text-align: right;\">\n",
       "      <th></th>\n",
       "      <th>email_id</th>\n",
       "      <th>email_text</th>\n",
       "      <th>email_version</th>\n",
       "      <th>hour</th>\n",
       "      <th>weekday</th>\n",
       "      <th>user_country</th>\n",
       "      <th>user_past_purchases</th>\n",
       "      <th>email_open</th>\n",
       "      <th>link_click</th>\n",
       "    </tr>\n",
       "  </thead>\n",
       "  <tbody>\n",
       "    <tr>\n",
       "      <th>0</th>\n",
       "      <td>85120</td>\n",
       "      <td>short_email</td>\n",
       "      <td>personalized</td>\n",
       "      <td>2</td>\n",
       "      <td>Sunday</td>\n",
       "      <td>US</td>\n",
       "      <td>5</td>\n",
       "      <td>0.0</td>\n",
       "      <td>0.0</td>\n",
       "    </tr>\n",
       "    <tr>\n",
       "      <th>1</th>\n",
       "      <td>966622</td>\n",
       "      <td>long_email</td>\n",
       "      <td>personalized</td>\n",
       "      <td>12</td>\n",
       "      <td>Sunday</td>\n",
       "      <td>UK</td>\n",
       "      <td>2</td>\n",
       "      <td>1.0</td>\n",
       "      <td>1.0</td>\n",
       "    </tr>\n",
       "    <tr>\n",
       "      <th>2</th>\n",
       "      <td>777221</td>\n",
       "      <td>long_email</td>\n",
       "      <td>personalized</td>\n",
       "      <td>11</td>\n",
       "      <td>Wednesday</td>\n",
       "      <td>US</td>\n",
       "      <td>2</td>\n",
       "      <td>0.0</td>\n",
       "      <td>0.0</td>\n",
       "    </tr>\n",
       "    <tr>\n",
       "      <th>3</th>\n",
       "      <td>493711</td>\n",
       "      <td>short_email</td>\n",
       "      <td>generic</td>\n",
       "      <td>6</td>\n",
       "      <td>Monday</td>\n",
       "      <td>UK</td>\n",
       "      <td>1</td>\n",
       "      <td>0.0</td>\n",
       "      <td>0.0</td>\n",
       "    </tr>\n",
       "    <tr>\n",
       "      <th>4</th>\n",
       "      <td>106887</td>\n",
       "      <td>long_email</td>\n",
       "      <td>generic</td>\n",
       "      <td>14</td>\n",
       "      <td>Monday</td>\n",
       "      <td>US</td>\n",
       "      <td>6</td>\n",
       "      <td>0.0</td>\n",
       "      <td>0.0</td>\n",
       "    </tr>\n",
       "  </tbody>\n",
       "</table>\n",
       "</div>"
      ],
      "text/plain": [
       "   email_id   email_text email_version  hour    weekday user_country  \\\n",
       "0     85120  short_email  personalized     2     Sunday           US   \n",
       "1    966622   long_email  personalized    12     Sunday           UK   \n",
       "2    777221   long_email  personalized    11  Wednesday           US   \n",
       "3    493711  short_email       generic     6     Monday           UK   \n",
       "4    106887   long_email       generic    14     Monday           US   \n",
       "\n",
       "   user_past_purchases  email_open  link_click  \n",
       "0                    5         0.0         0.0  \n",
       "1                    2         1.0         1.0  \n",
       "2                    2         0.0         0.0  \n",
       "3                    1         0.0         0.0  \n",
       "4                    6         0.0         0.0  "
      ]
     },
     "execution_count": 5,
     "metadata": {},
     "output_type": "execute_result"
    }
   ],
   "source": [
    "## merge with email_open\n",
    "df_email_open['email_open'] = 1\n",
    "df_merge = df_email.merge(df_email_open, on = 'email_id',how='left')\n",
    "df_merge['email_open'] =df_merge['email_open'].fillna(0)\n",
    "## merge with link_click\n",
    "df_link_click['link_click'] = 1\n",
    "df_merge = df_merge.merge(df_link_click,on='email_id',how='left')\n",
    "df_merge['link_click'] =df_merge['link_click'].fillna(0)\n",
    "df_merge.head()"
   ]
  },
  {
   "cell_type": "code",
   "execution_count": 6,
   "metadata": {},
   "outputs": [
    {
     "data": {
      "text/plain": [
       "(100000, 9)"
      ]
     },
     "execution_count": 6,
     "metadata": {},
     "output_type": "execute_result"
    }
   ],
   "source": [
    "df_merge.shape"
   ]
  },
  {
   "cell_type": "code",
   "execution_count": 13,
   "metadata": {},
   "outputs": [
    {
     "name": "stdout",
     "output_type": "stream",
     "text": [
      "email conversion rate is  2.119 %\n",
      "email open rate is  10.345 %\n"
     ]
    }
   ],
   "source": [
    "##### conversion rate\n",
    "print(\"email conversion rate is \", df_merge['link_click'].mean()*100,\"%\")\n",
    "print(\"email open rate is \", df_merge['email_open'].mean()*100,\"%\")"
   ]
  },
  {
   "cell_type": "code",
   "execution_count": 15,
   "metadata": {},
   "outputs": [
    {
     "data": {
      "text/html": [
       "<div>\n",
       "<style scoped>\n",
       "    .dataframe tbody tr th:only-of-type {\n",
       "        vertical-align: middle;\n",
       "    }\n",
       "\n",
       "    .dataframe tbody tr th {\n",
       "        vertical-align: top;\n",
       "    }\n",
       "\n",
       "    .dataframe thead th {\n",
       "        text-align: right;\n",
       "    }\n",
       "</style>\n",
       "<table border=\"1\" class=\"dataframe\">\n",
       "  <thead>\n",
       "    <tr style=\"text-align: right;\">\n",
       "      <th></th>\n",
       "      <th>email_id</th>\n",
       "      <th>email_version</th>\n",
       "      <th>hour</th>\n",
       "      <th>weekday</th>\n",
       "      <th>user_country</th>\n",
       "      <th>user_past_purchases</th>\n",
       "      <th>email_open</th>\n",
       "      <th>link_click</th>\n",
       "    </tr>\n",
       "    <tr>\n",
       "      <th>email_text</th>\n",
       "      <th></th>\n",
       "      <th></th>\n",
       "      <th></th>\n",
       "      <th></th>\n",
       "      <th></th>\n",
       "      <th></th>\n",
       "      <th></th>\n",
       "      <th></th>\n",
       "    </tr>\n",
       "  </thead>\n",
       "  <tbody>\n",
       "    <tr>\n",
       "      <th>long_email</th>\n",
       "      <td>50276</td>\n",
       "      <td>50276</td>\n",
       "      <td>50276</td>\n",
       "      <td>50276</td>\n",
       "      <td>50276</td>\n",
       "      <td>50276</td>\n",
       "      <td>50276</td>\n",
       "      <td>50276</td>\n",
       "    </tr>\n",
       "    <tr>\n",
       "      <th>short_email</th>\n",
       "      <td>49724</td>\n",
       "      <td>49724</td>\n",
       "      <td>49724</td>\n",
       "      <td>49724</td>\n",
       "      <td>49724</td>\n",
       "      <td>49724</td>\n",
       "      <td>49724</td>\n",
       "      <td>49724</td>\n",
       "    </tr>\n",
       "  </tbody>\n",
       "</table>\n",
       "</div>"
      ],
      "text/plain": [
       "             email_id  email_version   hour  weekday  user_country  \\\n",
       "email_text                                                           \n",
       "long_email      50276          50276  50276    50276         50276   \n",
       "short_email     49724          49724  49724    49724         49724   \n",
       "\n",
       "             user_past_purchases  email_open  link_click  \n",
       "email_text                                                \n",
       "long_email                 50276       50276       50276  \n",
       "short_email                49724       49724       49724  "
      ]
     },
     "execution_count": 15,
     "metadata": {},
     "output_type": "execute_result"
    }
   ],
   "source": [
    "####### email_text stats\n",
    "df_merge.groupby('email_text').count()"
   ]
  },
  {
   "cell_type": "code",
   "execution_count": 16,
   "metadata": {},
   "outputs": [
    {
     "data": {
      "text/html": [
       "<div>\n",
       "<style scoped>\n",
       "    .dataframe tbody tr th:only-of-type {\n",
       "        vertical-align: middle;\n",
       "    }\n",
       "\n",
       "    .dataframe tbody tr th {\n",
       "        vertical-align: top;\n",
       "    }\n",
       "\n",
       "    .dataframe thead th {\n",
       "        text-align: right;\n",
       "    }\n",
       "</style>\n",
       "<table border=\"1\" class=\"dataframe\">\n",
       "  <thead>\n",
       "    <tr style=\"text-align: right;\">\n",
       "      <th></th>\n",
       "      <th>email_id</th>\n",
       "      <th>email_text</th>\n",
       "      <th>hour</th>\n",
       "      <th>weekday</th>\n",
       "      <th>user_country</th>\n",
       "      <th>user_past_purchases</th>\n",
       "      <th>email_open</th>\n",
       "      <th>link_click</th>\n",
       "    </tr>\n",
       "    <tr>\n",
       "      <th>email_version</th>\n",
       "      <th></th>\n",
       "      <th></th>\n",
       "      <th></th>\n",
       "      <th></th>\n",
       "      <th></th>\n",
       "      <th></th>\n",
       "      <th></th>\n",
       "      <th></th>\n",
       "    </tr>\n",
       "  </thead>\n",
       "  <tbody>\n",
       "    <tr>\n",
       "      <th>generic</th>\n",
       "      <td>50209</td>\n",
       "      <td>50209</td>\n",
       "      <td>50209</td>\n",
       "      <td>50209</td>\n",
       "      <td>50209</td>\n",
       "      <td>50209</td>\n",
       "      <td>50209</td>\n",
       "      <td>50209</td>\n",
       "    </tr>\n",
       "    <tr>\n",
       "      <th>personalized</th>\n",
       "      <td>49791</td>\n",
       "      <td>49791</td>\n",
       "      <td>49791</td>\n",
       "      <td>49791</td>\n",
       "      <td>49791</td>\n",
       "      <td>49791</td>\n",
       "      <td>49791</td>\n",
       "      <td>49791</td>\n",
       "    </tr>\n",
       "  </tbody>\n",
       "</table>\n",
       "</div>"
      ],
      "text/plain": [
       "               email_id  email_text   hour  weekday  user_country  \\\n",
       "email_version                                                       \n",
       "generic           50209       50209  50209    50209         50209   \n",
       "personalized      49791       49791  49791    49791         49791   \n",
       "\n",
       "               user_past_purchases  email_open  link_click  \n",
       "email_version                                               \n",
       "generic                      50209       50209       50209  \n",
       "personalized                 49791       49791       49791  "
      ]
     },
     "execution_count": 16,
     "metadata": {},
     "output_type": "execute_result"
    }
   ],
   "source": [
    "###### email_version stats\n",
    "df_merge.groupby('email_version').count()"
   ]
  },
  {
   "cell_type": "code",
   "execution_count": 17,
   "metadata": {},
   "outputs": [
    {
     "data": {
      "text/html": [
       "<div>\n",
       "<style scoped>\n",
       "    .dataframe tbody tr th:only-of-type {\n",
       "        vertical-align: middle;\n",
       "    }\n",
       "\n",
       "    .dataframe tbody tr th {\n",
       "        vertical-align: top;\n",
       "    }\n",
       "\n",
       "    .dataframe thead th {\n",
       "        text-align: right;\n",
       "    }\n",
       "</style>\n",
       "<table border=\"1\" class=\"dataframe\">\n",
       "  <thead>\n",
       "    <tr style=\"text-align: right;\">\n",
       "      <th></th>\n",
       "      <th>email_id</th>\n",
       "      <th>email_text</th>\n",
       "      <th>email_version</th>\n",
       "      <th>hour</th>\n",
       "      <th>weekday</th>\n",
       "      <th>user_past_purchases</th>\n",
       "      <th>email_open</th>\n",
       "      <th>link_click</th>\n",
       "    </tr>\n",
       "    <tr>\n",
       "      <th>user_country</th>\n",
       "      <th></th>\n",
       "      <th></th>\n",
       "      <th></th>\n",
       "      <th></th>\n",
       "      <th></th>\n",
       "      <th></th>\n",
       "      <th></th>\n",
       "      <th></th>\n",
       "    </tr>\n",
       "  </thead>\n",
       "  <tbody>\n",
       "    <tr>\n",
       "      <th>ES</th>\n",
       "      <td>9967</td>\n",
       "      <td>9967</td>\n",
       "      <td>9967</td>\n",
       "      <td>9967</td>\n",
       "      <td>9967</td>\n",
       "      <td>9967</td>\n",
       "      <td>9967</td>\n",
       "      <td>9967</td>\n",
       "    </tr>\n",
       "    <tr>\n",
       "      <th>FR</th>\n",
       "      <td>9995</td>\n",
       "      <td>9995</td>\n",
       "      <td>9995</td>\n",
       "      <td>9995</td>\n",
       "      <td>9995</td>\n",
       "      <td>9995</td>\n",
       "      <td>9995</td>\n",
       "      <td>9995</td>\n",
       "    </tr>\n",
       "    <tr>\n",
       "      <th>UK</th>\n",
       "      <td>19939</td>\n",
       "      <td>19939</td>\n",
       "      <td>19939</td>\n",
       "      <td>19939</td>\n",
       "      <td>19939</td>\n",
       "      <td>19939</td>\n",
       "      <td>19939</td>\n",
       "      <td>19939</td>\n",
       "    </tr>\n",
       "    <tr>\n",
       "      <th>US</th>\n",
       "      <td>60099</td>\n",
       "      <td>60099</td>\n",
       "      <td>60099</td>\n",
       "      <td>60099</td>\n",
       "      <td>60099</td>\n",
       "      <td>60099</td>\n",
       "      <td>60099</td>\n",
       "      <td>60099</td>\n",
       "    </tr>\n",
       "  </tbody>\n",
       "</table>\n",
       "</div>"
      ],
      "text/plain": [
       "              email_id  email_text  email_version   hour  weekday  \\\n",
       "user_country                                                        \n",
       "ES                9967        9967           9967   9967     9967   \n",
       "FR                9995        9995           9995   9995     9995   \n",
       "UK               19939       19939          19939  19939    19939   \n",
       "US               60099       60099          60099  60099    60099   \n",
       "\n",
       "              user_past_purchases  email_open  link_click  \n",
       "user_country                                               \n",
       "ES                           9967        9967        9967  \n",
       "FR                           9995        9995        9995  \n",
       "UK                          19939       19939       19939  \n",
       "US                          60099       60099       60099  "
      ]
     },
     "execution_count": 17,
     "metadata": {},
     "output_type": "execute_result"
    }
   ],
   "source": [
    "### country stats\n",
    "df_merge.groupby('user_country').count()"
   ]
  },
  {
   "cell_type": "code",
   "execution_count": 20,
   "metadata": {},
   "outputs": [
    {
     "name": "stdout",
     "output_type": "stream",
     "text": [
      "min of user_past_purchases 0\n",
      "max of user_past_purchases 22\n"
     ]
    }
   ],
   "source": [
    "print(\"min of user_past_purchases\", df_merge['user_past_purchases'].min())\n",
    "print(\"max of user_past_purchases\", df_merge['user_past_purchases'].max())"
   ]
  },
  {
   "cell_type": "markdown",
   "metadata": {},
   "source": [
    "## Random Forest"
   ]
  },
  {
   "cell_type": "markdown",
   "metadata": {},
   "source": [
    "I plan to take random forest here as the model to detect the variable importance as well as the prediction. \n",
    "The reason I pick up RF is because\n",
    "\n",
    "    1). So many categorical variables, which means that it is a non-lieaner data set and classification model such as random forst will do a better job in prediction this case.\n",
    "    \n",
    "    2). We want to know what variables drives the conversion rate, so RF is good to provide this information"
   ]
  },
  {
   "cell_type": "code",
   "execution_count": 32,
   "metadata": {},
   "outputs": [
    {
     "name": "stdout",
     "output_type": "stream",
     "text": [
      "Checking whether there is an H2O instance running at http://localhost:54321 . connected.\n"
     ]
    },
    {
     "data": {
      "text/html": [
       "<div style=\"overflow:auto\"><table style=\"width:50%\"><tr><td>H2O_cluster_uptime:</td>\n",
       "<td>3 days 2 hours 11 mins</td></tr>\n",
       "<tr><td>H2O_cluster_timezone:</td>\n",
       "<td>America/Los_Angeles</td></tr>\n",
       "<tr><td>H2O_data_parsing_timezone:</td>\n",
       "<td>UTC</td></tr>\n",
       "<tr><td>H2O_cluster_version:</td>\n",
       "<td>3.32.0.2</td></tr>\n",
       "<tr><td>H2O_cluster_version_age:</td>\n",
       "<td>1 month and 18 days </td></tr>\n",
       "<tr><td>H2O_cluster_name:</td>\n",
       "<td>H2O_from_python_laura_liu_yi9609</td></tr>\n",
       "<tr><td>H2O_cluster_total_nodes:</td>\n",
       "<td>1</td></tr>\n",
       "<tr><td>H2O_cluster_free_memory:</td>\n",
       "<td>2.872 Gb</td></tr>\n",
       "<tr><td>H2O_cluster_total_cores:</td>\n",
       "<td>8</td></tr>\n",
       "<tr><td>H2O_cluster_allowed_cores:</td>\n",
       "<td>8</td></tr>\n",
       "<tr><td>H2O_cluster_status:</td>\n",
       "<td>locked, healthy</td></tr>\n",
       "<tr><td>H2O_connection_url:</td>\n",
       "<td>http://localhost:54321</td></tr>\n",
       "<tr><td>H2O_connection_proxy:</td>\n",
       "<td>{\"http\": null, \"https\": null}</td></tr>\n",
       "<tr><td>H2O_internal_security:</td>\n",
       "<td>False</td></tr>\n",
       "<tr><td>H2O_API_Extensions:</td>\n",
       "<td>Amazon S3, Algos, AutoML, Core V3, TargetEncoder, Core V4</td></tr>\n",
       "<tr><td>Python_version:</td>\n",
       "<td>3.7.3 final</td></tr></table></div>"
      ],
      "text/plain": [
       "--------------------------  ---------------------------------------------------------\n",
       "H2O_cluster_uptime:         3 days 2 hours 11 mins\n",
       "H2O_cluster_timezone:       America/Los_Angeles\n",
       "H2O_data_parsing_timezone:  UTC\n",
       "H2O_cluster_version:        3.32.0.2\n",
       "H2O_cluster_version_age:    1 month and 18 days\n",
       "H2O_cluster_name:           H2O_from_python_laura_liu_yi9609\n",
       "H2O_cluster_total_nodes:    1\n",
       "H2O_cluster_free_memory:    2.872 Gb\n",
       "H2O_cluster_total_cores:    8\n",
       "H2O_cluster_allowed_cores:  8\n",
       "H2O_cluster_status:         locked, healthy\n",
       "H2O_connection_url:         http://localhost:54321\n",
       "H2O_connection_proxy:       {\"http\": null, \"https\": null}\n",
       "H2O_internal_security:      False\n",
       "H2O_API_Extensions:         Amazon S3, Algos, AutoML, Core V3, TargetEncoder, Core V4\n",
       "Python_version:             3.7.3 final\n",
       "--------------------------  ---------------------------------------------------------"
      ]
     },
     "metadata": {},
     "output_type": "display_data"
    }
   ],
   "source": [
    "# Initialize H2O cluster\n",
    "h2o.init()\n",
    "h2o.remove_all()"
   ]
  },
  {
   "cell_type": "code",
   "execution_count": null,
   "metadata": {},
   "outputs": [],
   "source": []
  },
  {
   "cell_type": "markdown",
   "metadata": {},
   "source": [
    "In the model, the dependent variable will be link_click, which is a binary result with a very imbalance shape. According the the conversion rate 0.02, we only have 1 link click out of 5 email sent. This imbalance will cause ugly prediction(recall, precision and Fscore) from RF. \n",
    "\n",
    "We need to shuffle and re-sampling the dataset to create a balance training data."
   ]
  },
  {
   "cell_type": "code",
   "execution_count": 6,
   "metadata": {},
   "outputs": [
    {
     "data": {
      "text/plain": [
       "(20000, 9)"
      ]
     },
     "execution_count": 6,
     "metadata": {},
     "output_type": "execute_result"
    }
   ],
   "source": [
    "zero = df_merge[df_merge['link_click'] == 0]\n",
    "one = df_merge[df_merge['link_click'] == 1]\n",
    "\n",
    "one = one.sample(n=10000, replace=True,random_state=1)\n",
    "zero = zero.sample(n=10000, replace=True,random_state=1)\n",
    "data = one.append(zero)\n",
    "data.shape"
   ]
  },
  {
   "cell_type": "code",
   "execution_count": 42,
   "metadata": {},
   "outputs": [
    {
     "name": "stdout",
     "output_type": "stream",
     "text": [
      "Parse progress: |█████████████████████████████████████████████████████████| 100%\n"
     ]
    }
   ],
   "source": [
    "## process the data\n",
    "# Transform to H2O Frame, and make sure the target variable is categorical\n",
    "h2o_df = H2OFrame(data)\n",
    "h2o_df['hour'] = h2o_df['hour'].asfactor()\n",
    "h2o_df['email_open'] = h2o_df['email_open'].asfactor()\n",
    "h2o_df['link_click'] = h2o_df['link_click'].asfactor()\n"
   ]
  },
  {
   "cell_type": "code",
   "execution_count": 43,
   "metadata": {},
   "outputs": [
    {
     "data": {
      "text/html": [
       "<table>\n",
       "<thead>\n",
       "<tr><th>       </th><th>email_id          </th><th>email_text  </th><th>email_version  </th><th>hour  </th><th>weekday  </th><th>user_country  </th><th>user_past_purchases  </th><th>email_open  </th><th>link_click  </th></tr>\n",
       "</thead>\n",
       "<tbody>\n",
       "<tr><td>type   </td><td>int               </td><td>enum        </td><td>enum           </td><td>enum  </td><td>enum     </td><td>enum          </td><td>int                  </td><td>enum        </td><td>enum        </td></tr>\n",
       "<tr><td>mins   </td><td>118.0             </td><td>            </td><td>               </td><td>      </td><td>         </td><td>              </td><td>0.0                  </td><td>            </td><td>            </td></tr>\n",
       "<tr><td>mean   </td><td>494802.1512000012 </td><td>            </td><td>               </td><td>      </td><td>         </td><td>              </td><td>5.018699999999995    </td><td>            </td><td>            </td></tr>\n",
       "<tr><td>maxs   </td><td>999998.0          </td><td>            </td><td>               </td><td>      </td><td>         </td><td>              </td><td>22.0                 </td><td>            </td><td>            </td></tr>\n",
       "<tr><td>sigma  </td><td>293817.22431187617</td><td>            </td><td>               </td><td>      </td><td>         </td><td>              </td><td>3.6059950734885264   </td><td>            </td><td>            </td></tr>\n",
       "<tr><td>zeros  </td><td>0                 </td><td>            </td><td>               </td><td>      </td><td>         </td><td>              </td><td>1471                 </td><td>            </td><td>            </td></tr>\n",
       "<tr><td>missing</td><td>0                 </td><td>0           </td><td>0              </td><td>0     </td><td>0        </td><td>0             </td><td>0                    </td><td>0           </td><td>0           </td></tr>\n",
       "<tr><td>0      </td><td>182080.0          </td><td>short_email </td><td>generic        </td><td>7     </td><td>Saturday </td><td>US            </td><td>6.0                  </td><td>1           </td><td>1           </td></tr>\n",
       "<tr><td>1      </td><td>892395.0          </td><td>short_email </td><td>generic        </td><td>10    </td><td>Monday   </td><td>ES            </td><td>3.0                  </td><td>1           </td><td>1           </td></tr>\n",
       "<tr><td>2      </td><td>206510.0          </td><td>long_email  </td><td>generic        </td><td>6     </td><td>Tuesday  </td><td>US            </td><td>5.0                  </td><td>1           </td><td>1           </td></tr>\n",
       "<tr><td>3      </td><td>588030.0          </td><td>short_email </td><td>personalized   </td><td>12    </td><td>Sunday   </td><td>UK            </td><td>9.0                  </td><td>1           </td><td>1           </td></tr>\n",
       "<tr><td>4      </td><td>846155.0          </td><td>short_email </td><td>generic        </td><td>11    </td><td>Tuesday  </td><td>UK            </td><td>10.0                 </td><td>1           </td><td>1           </td></tr>\n",
       "<tr><td>5      </td><td>13347.0           </td><td>long_email  </td><td>personalized   </td><td>8     </td><td>Saturday </td><td>US            </td><td>2.0                  </td><td>1           </td><td>1           </td></tr>\n",
       "<tr><td>6      </td><td>634593.0          </td><td>short_email </td><td>generic        </td><td>10    </td><td>Saturday </td><td>US            </td><td>5.0                  </td><td>1           </td><td>1           </td></tr>\n",
       "<tr><td>7      </td><td>923968.0          </td><td>short_email </td><td>personalized   </td><td>9     </td><td>Thursday </td><td>US            </td><td>2.0                  </td><td>1           </td><td>1           </td></tr>\n",
       "<tr><td>8      </td><td>526201.0          </td><td>long_email  </td><td>generic        </td><td>3     </td><td>Tuesday  </td><td>US            </td><td>16.0                 </td><td>1           </td><td>1           </td></tr>\n",
       "<tr><td>9      </td><td>975735.0          </td><td>short_email </td><td>personalized   </td><td>8     </td><td>Thursday </td><td>UK            </td><td>6.0                  </td><td>1           </td><td>1           </td></tr>\n",
       "</tbody>\n",
       "</table>"
      ]
     },
     "metadata": {},
     "output_type": "display_data"
    }
   ],
   "source": [
    "h2o_df.summary()"
   ]
  },
  {
   "cell_type": "code",
   "execution_count": 46,
   "metadata": {},
   "outputs": [
    {
     "data": {
      "text/html": [
       "<div>\n",
       "<style scoped>\n",
       "    .dataframe tbody tr th:only-of-type {\n",
       "        vertical-align: middle;\n",
       "    }\n",
       "\n",
       "    .dataframe tbody tr th {\n",
       "        vertical-align: top;\n",
       "    }\n",
       "\n",
       "    .dataframe thead th {\n",
       "        text-align: right;\n",
       "    }\n",
       "</style>\n",
       "<table border=\"1\" class=\"dataframe\">\n",
       "  <thead>\n",
       "    <tr style=\"text-align: right;\">\n",
       "      <th></th>\n",
       "      <th>email_id</th>\n",
       "      <th>email_text</th>\n",
       "      <th>email_version</th>\n",
       "      <th>hour</th>\n",
       "      <th>weekday</th>\n",
       "      <th>user_country</th>\n",
       "      <th>user_past_purchases</th>\n",
       "      <th>email_open</th>\n",
       "      <th>link_click</th>\n",
       "    </tr>\n",
       "  </thead>\n",
       "  <tbody>\n",
       "    <tr>\n",
       "      <th>0</th>\n",
       "      <td>85120</td>\n",
       "      <td>short_email</td>\n",
       "      <td>personalized</td>\n",
       "      <td>2</td>\n",
       "      <td>Sunday</td>\n",
       "      <td>US</td>\n",
       "      <td>5</td>\n",
       "      <td>0.0</td>\n",
       "      <td>0.0</td>\n",
       "    </tr>\n",
       "    <tr>\n",
       "      <th>1</th>\n",
       "      <td>966622</td>\n",
       "      <td>long_email</td>\n",
       "      <td>personalized</td>\n",
       "      <td>12</td>\n",
       "      <td>Sunday</td>\n",
       "      <td>UK</td>\n",
       "      <td>2</td>\n",
       "      <td>1.0</td>\n",
       "      <td>1.0</td>\n",
       "    </tr>\n",
       "    <tr>\n",
       "      <th>2</th>\n",
       "      <td>777221</td>\n",
       "      <td>long_email</td>\n",
       "      <td>personalized</td>\n",
       "      <td>11</td>\n",
       "      <td>Wednesday</td>\n",
       "      <td>US</td>\n",
       "      <td>2</td>\n",
       "      <td>0.0</td>\n",
       "      <td>0.0</td>\n",
       "    </tr>\n",
       "    <tr>\n",
       "      <th>3</th>\n",
       "      <td>493711</td>\n",
       "      <td>short_email</td>\n",
       "      <td>generic</td>\n",
       "      <td>6</td>\n",
       "      <td>Monday</td>\n",
       "      <td>UK</td>\n",
       "      <td>1</td>\n",
       "      <td>0.0</td>\n",
       "      <td>0.0</td>\n",
       "    </tr>\n",
       "    <tr>\n",
       "      <th>4</th>\n",
       "      <td>106887</td>\n",
       "      <td>long_email</td>\n",
       "      <td>generic</td>\n",
       "      <td>14</td>\n",
       "      <td>Monday</td>\n",
       "      <td>US</td>\n",
       "      <td>6</td>\n",
       "      <td>0.0</td>\n",
       "      <td>0.0</td>\n",
       "    </tr>\n",
       "  </tbody>\n",
       "</table>\n",
       "</div>"
      ],
      "text/plain": [
       "   email_id   email_text email_version  hour    weekday user_country  \\\n",
       "0     85120  short_email  personalized     2     Sunday           US   \n",
       "1    966622   long_email  personalized    12     Sunday           UK   \n",
       "2    777221   long_email  personalized    11  Wednesday           US   \n",
       "3    493711  short_email       generic     6     Monday           UK   \n",
       "4    106887   long_email       generic    14     Monday           US   \n",
       "\n",
       "   user_past_purchases  email_open  link_click  \n",
       "0                    5         0.0         0.0  \n",
       "1                    2         1.0         1.0  \n",
       "2                    2         0.0         0.0  \n",
       "3                    1         0.0         0.0  \n",
       "4                    6         0.0         0.0  "
      ]
     },
     "execution_count": 46,
     "metadata": {},
     "output_type": "execute_result"
    }
   ],
   "source": [
    "df_merge.head()"
   ]
  },
  {
   "cell_type": "code",
   "execution_count": 56,
   "metadata": {},
   "outputs": [],
   "source": [
    "# Split into 75% training and 25% test dataset\n",
    "strat_split = h2o_df['link_click'].stratified_split(test_frac=0.25, seed=42)\n",
    "\n",
    "train = h2o_df[strat_split == 'train']\n",
    "test = h2o_df[strat_split == 'test']\n",
    "\n",
    "feature = ['email_text','email_version','hour','weekday','user_country','user_past_purchases']\n",
    "\n",
    "target = 'link_click'"
   ]
  },
  {
   "cell_type": "code",
   "execution_count": 57,
   "metadata": {},
   "outputs": [
    {
     "name": "stdout",
     "output_type": "stream",
     "text": [
      "drf Model Build progress: |███████████████████████████████████████████████| 100%\n"
     ]
    }
   ],
   "source": [
    "model = H2ORandomForestEstimator(balance_classes=True, ntrees=1000, max_depth=20, \n",
    "                                 mtries=-1, seed=42, score_each_iteration=True)\n",
    "model.train(x=feature, y=target, training_frame=train)"
   ]
  },
  {
   "cell_type": "code",
   "execution_count": 58,
   "metadata": {},
   "outputs": [
    {
     "data": {
      "image/png": "[encoded data removed]",
      "text/plain": [
       "<Figure size 1008x720 with 1 Axes>"
      ]
     },
     "metadata": {
      "needs_background": "light"
     },
     "output_type": "display_data"
    }
   ],
   "source": [
    "model.varimp_plot()\n"
   ]
  },
  {
   "cell_type": "code",
   "execution_count": 59,
   "metadata": {},
   "outputs": [
    {
     "name": "stdout",
     "output_type": "stream",
     "text": [
      "drf prediction progress: |████████████████████████████████████████████████| 100%\n",
      "drf prediction progress: |████████████████████████████████████████████████| 100%\n"
     ]
    }
   ],
   "source": [
    "train_true = train.as_data_frame()['link_click'].values\n",
    "test_true = test.as_data_frame()['link_click'].values\n",
    "train_pred = model.predict(train).as_data_frame()['p1'].values\n",
    "test_pred = model.predict(test).as_data_frame()['p1'].values\n",
    "\n",
    "train_fpr, train_tpr, _ = roc_curve(train_true, train_pred)\n",
    "test_fpr, test_tpr, _ = roc_curve(test_true, test_pred)\n",
    "train_auc = np.round(auc(train_fpr, train_tpr), 3)\n",
    "test_auc = np.round(auc(test_fpr, test_tpr), 3)"
   ]
  },
  {
   "cell_type": "code",
   "execution_count": 61,
   "metadata": {},
   "outputs": [
    {
     "name": "stdout",
     "output_type": "stream",
     "text": [
      "              precision    recall  f1-score   support\n",
      "\n",
      "           0       0.91      0.76      0.83      2500\n",
      "           1       0.79      0.92      0.85      2500\n",
      "\n",
      "    accuracy                           0.84      5000\n",
      "   macro avg       0.85      0.84      0.84      5000\n",
      "weighted avg       0.85      0.84      0.84      5000\n",
      "\n"
     ]
    }
   ],
   "source": [
    "print(classification_report(y_true=test_true, y_pred=(test_pred > 0.5).astype(int)))\n"
   ]
  },
  {
   "cell_type": "code",
   "execution_count": 60,
   "metadata": {},
   "outputs": [
    {
     "data": {
      "image/png": "[encoded data removed]",
      "text/plain": [
       "<Figure size 576x432 with 1 Axes>"
      ]
     },
     "metadata": {
      "needs_background": "light"
     },
     "output_type": "display_data"
    }
   ],
   "source": [
    "fig, ax = plt.subplots(figsize=(8, 6))\n",
    "ax.plot(train_fpr, train_tpr, label='Train AUC: ' + str(train_auc))\n",
    "ax.plot(test_fpr, test_tpr, label='Test AUC: ' + str(test_auc))\n",
    "ax.set_xlabel('False Positive Rate', fontsize=12)\n",
    "ax.set_ylabel('True Positive Rate', fontsize=12)\n",
    "ax.legend(fontsize=12)\n",
    "plt.show()"
   ]
  },
  {
   "cell_type": "markdown",
   "metadata": {},
   "source": [
    "## Logistic Regression"
   ]
  },
  {
   "cell_type": "code",
   "execution_count": 67,
   "metadata": {},
   "outputs": [
    {
     "name": "stdout",
     "output_type": "stream",
     "text": [
      "glm Model Build progress: |███████████████████████████████████████████████| 100%\n"
     ]
    }
   ],
   "source": [
    "glm_logistic = H2OGeneralizedLinearEstimator(family = \"binomial\")\n",
    "glm_logistic.train(x=feature, y= target, training_frame=train, model_id=\"glm_logistic\")\n",
    "\n"
   ]
  },
  {
   "cell_type": "code",
   "execution_count": null,
   "metadata": {},
   "outputs": [],
   "source": []
  },
  {
   "cell_type": "code",
   "execution_count": 77,
   "metadata": {},
   "outputs": [
    {
     "data": {
      "text/plain": [
       "{'Intercept': -1.3495557959117293,\n",
       " 'hour.1': -0.03856086819216028,\n",
       " 'hour.2': -0.24285880338087096,\n",
       " 'hour.3': -0.14448195404419273,\n",
       " 'hour.4': -0.30270028682838535,\n",
       " 'hour.5': -0.028450932976821892,\n",
       " 'hour.6': -0.08658613410442868,\n",
       " 'hour.7': -0.0258325888676142,\n",
       " 'hour.8': 0.08333535653116297,\n",
       " 'hour.9': 0.2593583409223501,\n",
       " 'hour.10': 0.22996511578876505,\n",
       " 'hour.11': 0.31414900165410603,\n",
       " 'hour.12': 0.20372910288828158,\n",
       " 'hour.13': -0.016909052242660184,\n",
       " 'hour.14': 0.00020482845905381644,\n",
       " 'hour.15': 0.1993147987192578,\n",
       " 'hour.16': 0.16645505221164802,\n",
       " 'hour.17': -0.0074188627984662185,\n",
       " 'hour.18': 0.0,\n",
       " 'hour.19': 0.0,\n",
       " 'hour.20': -0.8118048449199736,\n",
       " 'hour.21': -0.06913650084039275,\n",
       " 'hour.22': 0.0,\n",
       " 'hour.23': 0.5336370083338334,\n",
       " 'hour.24': 0.0,\n",
       " 'weekday.Friday': -0.4867856971837783,\n",
       " 'weekday.Monday': 0.06194833305622925,\n",
       " 'weekday.Saturday': -0.22002016195348492,\n",
       " 'weekday.Sunday': -0.3522589233265782,\n",
       " 'weekday.Thursday': 0.2545023224296402,\n",
       " 'weekday.Tuesday': 0.08908320201779733,\n",
       " 'weekday.Wednesday': 0.24244987553143066,\n",
       " 'user_country.ES': -0.6676843600623827,\n",
       " 'user_country.FR': -1.0025473583385527,\n",
       " 'user_country.UK': 0.4100558209455937,\n",
       " 'user_country.US': 0.39008956819036567,\n",
       " 'email_version.generic': -0.36454218476792155,\n",
       " 'email_version.personalized': 0.3247058425994904,\n",
       " 'email_text.long_email': -0.1297953882650238,\n",
       " 'email_text.short_email': 0.1174716285325793,\n",
       " 'user_past_purchases': 0.2143290282150319}"
      ]
     },
     "execution_count": 77,
     "metadata": {},
     "output_type": "execute_result"
    }
   ],
   "source": [
    "glm_logistic.coef()"
   ]
  },
  {
   "cell_type": "code",
   "execution_count": 81,
   "metadata": {},
   "outputs": [
    {
     "name": "stdout",
     "output_type": "stream",
     "text": [
      "glm prediction progress: |████████████████████████████████████████████████| 100%\n",
      "glm prediction progress: |████████████████████████████████████████████████| 100%\n"
     ]
    }
   ],
   "source": [
    "#glm_logistic.predict(test_data=test)\n",
    "\n",
    "train_true = train.as_data_frame()['link_click'].values\n",
    "test_true = test.as_data_frame()['link_click'].values\n",
    "train_pred = glm_logistic.predict(train).as_data_frame()['p1'].values\n",
    "test_pred = glm_logistic.predict(test).as_data_frame()['p1'].values\n",
    "\n",
    "train_fpr, train_tpr, _ = roc_curve(train_true, train_pred)\n",
    "test_fpr, test_tpr, _ = roc_curve(test_true, test_pred)\n",
    "train_auc = np.round(auc(train_fpr, train_tpr), 3)\n",
    "test_auc = np.round(auc(test_fpr, test_tpr), 3)"
   ]
  },
  {
   "cell_type": "code",
   "execution_count": 82,
   "metadata": {},
   "outputs": [
    {
     "name": "stdout",
     "output_type": "stream",
     "text": [
      "              precision    recall  f1-score   support\n",
      "\n",
      "           0       0.67      0.69      0.68      2500\n",
      "           1       0.68      0.67      0.67      2500\n",
      "\n",
      "    accuracy                           0.68      5000\n",
      "   macro avg       0.68      0.68      0.68      5000\n",
      "weighted avg       0.68      0.68      0.68      5000\n",
      "\n"
     ]
    }
   ],
   "source": [
    "print(classification_report(y_true=test_true, y_pred=(test_pred > 0.5).astype(int)))\n"
   ]
  },
  {
   "cell_type": "code",
   "execution_count": 84,
   "metadata": {},
   "outputs": [
    {
     "name": "stdout",
     "output_type": "stream",
     "text": [
      "0.4497829676216205\n",
      "0.4512242552994131\n"
     ]
    }
   ],
   "source": [
    "print(glm_logistic.model_performance(test_data=test).rmse())\n",
    "print(glm_logistic.model_performance(test_data=train).rmse())"
   ]
  },
  {
   "cell_type": "code",
   "execution_count": 86,
   "metadata": {},
   "outputs": [
    {
     "name": "stdout",
     "output_type": "stream",
     "text": [
      "0.19078112814995307\n",
      "0.18558668571796022\n"
     ]
    }
   ],
   "source": [
    "print(glm_logistic.model_performance(test_data=test).r2())\n",
    "print(glm_logistic.model_performance(test_data=train).r2())"
   ]
  },
  {
   "cell_type": "markdown",
   "metadata": {},
   "source": [
    "## Logistic Regression other library"
   ]
  },
  {
   "cell_type": "code",
   "execution_count": 171,
   "metadata": {},
   "outputs": [
    {
     "data": {
      "text/html": [
       "<div>\n",
       "<style scoped>\n",
       "    .dataframe tbody tr th:only-of-type {\n",
       "        vertical-align: middle;\n",
       "    }\n",
       "\n",
       "    .dataframe tbody tr th {\n",
       "        vertical-align: top;\n",
       "    }\n",
       "\n",
       "    .dataframe thead th {\n",
       "        text-align: right;\n",
       "    }\n",
       "</style>\n",
       "<table border=\"1\" class=\"dataframe\">\n",
       "  <thead>\n",
       "    <tr style=\"text-align: right;\">\n",
       "      <th></th>\n",
       "      <th>email_id</th>\n",
       "      <th>email_text</th>\n",
       "      <th>email_version</th>\n",
       "      <th>hour</th>\n",
       "      <th>weekday</th>\n",
       "      <th>user_country</th>\n",
       "      <th>user_past_purchases</th>\n",
       "      <th>email_open</th>\n",
       "      <th>link_click</th>\n",
       "    </tr>\n",
       "  </thead>\n",
       "  <tbody>\n",
       "    <tr>\n",
       "      <th>49970</th>\n",
       "      <td>182080</td>\n",
       "      <td>short_email</td>\n",
       "      <td>generic</td>\n",
       "      <td>7</td>\n",
       "      <td>Saturday</td>\n",
       "      <td>US</td>\n",
       "      <td>6</td>\n",
       "      <td>1.0</td>\n",
       "      <td>1.0</td>\n",
       "    </tr>\n",
       "    <tr>\n",
       "      <th>10844</th>\n",
       "      <td>892395</td>\n",
       "      <td>short_email</td>\n",
       "      <td>generic</td>\n",
       "      <td>10</td>\n",
       "      <td>Monday</td>\n",
       "      <td>ES</td>\n",
       "      <td>3</td>\n",
       "      <td>1.0</td>\n",
       "      <td>1.0</td>\n",
       "    </tr>\n",
       "    <tr>\n",
       "      <th>51497</th>\n",
       "      <td>206510</td>\n",
       "      <td>long_email</td>\n",
       "      <td>generic</td>\n",
       "      <td>6</td>\n",
       "      <td>Tuesday</td>\n",
       "      <td>US</td>\n",
       "      <td>5</td>\n",
       "      <td>1.0</td>\n",
       "      <td>1.0</td>\n",
       "    </tr>\n",
       "    <tr>\n",
       "      <th>43190</th>\n",
       "      <td>588030</td>\n",
       "      <td>short_email</td>\n",
       "      <td>personalized</td>\n",
       "      <td>12</td>\n",
       "      <td>Sunday</td>\n",
       "      <td>UK</td>\n",
       "      <td>9</td>\n",
       "      <td>1.0</td>\n",
       "      <td>1.0</td>\n",
       "    </tr>\n",
       "    <tr>\n",
       "      <th>45657</th>\n",
       "      <td>846155</td>\n",
       "      <td>short_email</td>\n",
       "      <td>generic</td>\n",
       "      <td>11</td>\n",
       "      <td>Tuesday</td>\n",
       "      <td>UK</td>\n",
       "      <td>10</td>\n",
       "      <td>1.0</td>\n",
       "      <td>1.0</td>\n",
       "    </tr>\n",
       "  </tbody>\n",
       "</table>\n",
       "</div>"
      ],
      "text/plain": [
       "       email_id   email_text email_version  hour   weekday user_country  \\\n",
       "49970    182080  short_email       generic     7  Saturday           US   \n",
       "10844    892395  short_email       generic    10    Monday           ES   \n",
       "51497    206510   long_email       generic     6   Tuesday           US   \n",
       "43190    588030  short_email  personalized    12    Sunday           UK   \n",
       "45657    846155  short_email       generic    11   Tuesday           UK   \n",
       "\n",
       "       user_past_purchases  email_open  link_click  \n",
       "49970                    6         1.0         1.0  \n",
       "10844                    3         1.0         1.0  \n",
       "51497                    5         1.0         1.0  \n",
       "43190                    9         1.0         1.0  \n",
       "45657                   10         1.0         1.0  "
      ]
     },
     "execution_count": 171,
     "metadata": {},
     "output_type": "execute_result"
    }
   ],
   "source": [
    "data.head()"
   ]
  },
  {
   "cell_type": "code",
   "execution_count": 226,
   "metadata": {},
   "outputs": [],
   "source": [
    "log_data = data.copy()"
   ]
  },
  {
   "cell_type": "code",
   "execution_count": 227,
   "metadata": {},
   "outputs": [
    {
     "data": {
      "text/plain": [
       "(20000, 9)"
      ]
     },
     "execution_count": 227,
     "metadata": {},
     "output_type": "execute_result"
    }
   ],
   "source": [
    "log_data.shape"
   ]
  },
  {
   "cell_type": "code",
   "execution_count": 228,
   "metadata": {},
   "outputs": [],
   "source": [
    "log_data['hour'] = log_data['hour'].apply(str)\n",
    "#log_data['user_past_purchases'] = log_data['user_past_purchases'].apply(str)\n",
    "#log_data['link_click'] = log_data['link_click'].apply(str)"
   ]
  },
  {
   "cell_type": "code",
   "execution_count": 229,
   "metadata": {},
   "outputs": [],
   "source": [
    "del log_data['email_id']"
   ]
  },
  {
   "cell_type": "code",
   "execution_count": 230,
   "metadata": {},
   "outputs": [],
   "source": [
    "cat_vars = log_data.select_dtypes(include=['object']).copy().columns  \n",
    "for var in  cat_vars:\n",
    "        log_data = pd.concat([log_data.drop(var, axis=1), pd.get_dummies(log_data[var], prefix=var, prefix_sep='_', drop_first=True)], axis=1)\n",
    "X = log_data.drop(['link_click','email_open'], axis=1)\n",
    "X['constant'] = 1\n",
    "y = log_data['link_click']"
   ]
  },
  {
   "cell_type": "markdown",
   "metadata": {},
   "source": [
    "def create_Logit(X,y):\n",
    "    '''\n",
    "    creates statsmodels logistic regression model with 'linked click ' as target variable\n",
    "    INPUT: pandas dataframe\n",
    "    OUTPUT: statsmodels Logistic Regression model\n",
    "    '''\n",
    "    X = X.copy()\n",
    "    X['constant'] = 1\n",
    "    X.pop('email_id')\n",
    "    logit = Logit(y,X)\n",
    "    model = logit.fit(maxiter = 400)\n",
    "    return model"
   ]
  },
  {
   "cell_type": "markdown",
   "metadata": {},
   "source": [
    "from imblearn.over_sampling import SMOTE, RandomOverSampler\n",
    "from statsmodels.discrete.discrete_model import Logit\n",
    "\n",
    "random_over_sampler = RandomOverSampler()\n",
    "X_train, X_test,y_train, y_test = train_test_split(X,y,test_size = .5, random_state = 1)\n",
    "X_train_over_sample, y_train_over_sample= random_over_sampler.fit_sample(X_train,y_train)\n",
    "X_train_over_sample = pd.DataFrame(X_train_over_sample)\n",
    "X_train_over_sample.columns = X_train.columns\n",
    "#model = create_Logit(X_train_over_sample,y_train_over_sample)\n",
    "#print(model.summary(), '\\n')"
   ]
  },
  {
   "cell_type": "code",
   "execution_count": 231,
   "metadata": {
    "scrolled": true
   },
   "outputs": [
    {
     "name": "stdout",
     "output_type": "stream",
     "text": [
      "Optimization terminated successfully.\n",
      "         Current function value: 0.591260\n",
      "         Iterations 6\n",
      "                              Results: Logit\n",
      "===========================================================================\n",
      "Model:                  Logit               Pseudo R-squared:    0.147     \n",
      "Dependent Variable:     link_click          AIC:                 23722.4058\n",
      "Date:                   2021-01-05 14:52    BIC:                 24006.9314\n",
      "No. Observations:       20000               Log-Likelihood:      -11825.   \n",
      "Df Model:               35                  LL-Null:             -13863.   \n",
      "Df Residuals:           19964               LLR p-value:         0.0000    \n",
      "Converged:              1.0000              Scale:               1.0000    \n",
      "No. Iterations:         6.0000                                             \n",
      "---------------------------------------------------------------------------\n",
      "                            Coef.  Std.Err.    z     P>|z|   [0.025  0.975]\n",
      "---------------------------------------------------------------------------\n",
      "user_past_purchases         0.2169   0.0049  43.8915 0.0000  0.2072  0.2266\n",
      "email_text_short_email      0.2537   0.0315   8.0471 0.0000  0.1919  0.3155\n",
      "email_version_personalized  0.6812   0.0320  21.3009 0.0000  0.6185  0.7438\n",
      "hour_10                     0.3496   0.1089   3.2088 0.0013  0.1360  0.5631\n",
      "hour_11                     0.3874   0.1098   3.5272 0.0004  0.1721  0.6026\n",
      "hour_12                     0.2656   0.1138   2.3339 0.0196  0.0426  0.4886\n",
      "hour_13                     0.0374   0.1167   0.3201 0.7489 -0.1914  0.2661\n",
      "hour_14                     0.0321   0.1211   0.2651 0.7909 -0.2053  0.2695\n",
      "hour_15                     0.2738   0.1248   2.1936 0.0283  0.0292  0.5185\n",
      "hour_16                     0.2689   0.1331   2.0201 0.0434  0.0080  0.5298\n",
      "hour_17                     0.0491   0.1555   0.3160 0.7520 -0.2556  0.3539\n",
      "hour_18                    -0.1049   0.1761  -0.5956 0.5515 -0.4499  0.2402\n",
      "hour_19                     0.0988   0.1879   0.5260 0.5989 -0.2694  0.4671\n",
      "hour_2                     -0.1469   0.1294  -1.1347 0.2565 -0.4005  0.1068\n",
      "hour_20                    -0.9908   0.2402  -4.1243 0.0000 -1.4617 -0.5200\n",
      "hour_21                    -0.3041   0.3525  -0.8628 0.3883 -0.9951  0.3868\n",
      "hour_22                     0.2126   0.3786   0.5616 0.5744 -0.5294  0.9547\n",
      "hour_23                     0.9874   0.3447   2.8647 0.0042  0.3119  1.6630\n",
      "hour_24                     0.6650   0.7371   0.9022 0.3670 -0.7797  2.1097\n",
      "hour_3                     -0.1655   0.1215  -1.3620 0.1732 -0.4037  0.0727\n",
      "hour_4                     -0.2523   0.1192  -2.1173 0.0342 -0.4859 -0.0187\n",
      "hour_5                     -0.0328   0.1163  -0.2820 0.7779 -0.2607  0.1951\n",
      "hour_6                      0.0037   0.1122   0.0328 0.9739 -0.2163  0.2236\n",
      "hour_7                     -0.0290   0.1111  -0.2613 0.7938 -0.2467  0.1887\n",
      "hour_8                      0.1166   0.1112   1.0486 0.2944 -0.1013  0.3345\n",
      "hour_9                      0.2718   0.1089   2.4944 0.0126  0.0582  0.4853\n",
      "weekday_Monday              0.5900   0.0628   9.3894 0.0000  0.4668  0.7131\n",
      "weekday_Saturday            0.2937   0.0638   4.6067 0.0000  0.1688  0.4187\n",
      "weekday_Sunday              0.2106   0.0639   3.2938 0.0010  0.0853  0.3359\n",
      "weekday_Thursday            0.7745   0.0617  12.5602 0.0000  0.6536  0.8954\n",
      "weekday_Tuesday             0.6443   0.0615  10.4735 0.0000  0.5237  0.7648\n",
      "weekday_Wednesday           0.7917   0.0612  12.9286 0.0000  0.6716  0.9117\n",
      "user_country_FR            -0.2142   0.0928  -2.3073 0.0210 -0.3961 -0.0322\n",
      "user_country_UK             1.1820   0.0732  16.1461 0.0000  1.0385  1.3255\n",
      "user_country_US             1.1576   0.0679  17.0480 0.0000  1.0245  1.2906\n",
      "constant                   -3.2008   0.1311 -24.4120 0.0000 -3.4578 -2.9438\n",
      "===========================================================================\n",
      "\n"
     ]
    }
   ],
   "source": [
    "import statsmodels.api as sm\n",
    "logit_model=sm.Logit(y,X)\n",
    "result=logit_model.fit()\n",
    "print(result.summary2())"
   ]
  },
  {
   "cell_type": "code",
   "execution_count": 235,
   "metadata": {},
   "outputs": [
    {
     "name": "stderr",
     "output_type": "stream",
     "text": [
      "C:\\Users\\laura.liu\\Anaconda3\\lib\\site-packages\\sklearn\\linear_model\\_logistic.py:765: ConvergenceWarning: lbfgs failed to converge (status=1):\n",
      "STOP: TOTAL NO. of ITERATIONS REACHED LIMIT.\n",
      "\n",
      "Increase the number of iterations (max_iter) or scale the data as shown in:\n",
      "    https://scikit-learn.org/stable/modules/preprocessing.html\n",
      "Please also refer to the documentation for alternative solver options:\n",
      "    https://scikit-learn.org/stable/modules/linear_model.html#logistic-regression\n",
      "  extra_warning_msg=_LOGISTIC_SOLVER_CONVERGENCE_MSG)\n"
     ]
    },
    {
     "data": {
      "text/plain": [
       "LogisticRegression()"
      ]
     },
     "execution_count": 235,
     "metadata": {},
     "output_type": "execute_result"
    }
   ],
   "source": [
    "from sklearn.linear_model import LogisticRegression\n",
    "from sklearn import metrics\n",
    "X_train, X_test, y_train, y_test = train_test_split(X, y, test_size=0.3, random_state=0)\n",
    "logreg = LogisticRegression()\n",
    "logreg.fit(X_train, y_train)\n"
   ]
  },
  {
   "cell_type": "code",
   "execution_count": 244,
   "metadata": {},
   "outputs": [],
   "source": [
    "y_pred = logreg.predict(X_test)\n"
   ]
  },
  {
   "cell_type": "code",
   "execution_count": 245,
   "metadata": {},
   "outputs": [
    {
     "name": "stdout",
     "output_type": "stream",
     "text": [
      "              precision    recall  f1-score   support\n",
      "\n",
      "         0.0       0.68      0.69      0.68      3010\n",
      "         1.0       0.68      0.67      0.67      2990\n",
      "\n",
      "    accuracy                           0.68      6000\n",
      "   macro avg       0.68      0.68      0.68      6000\n",
      "weighted avg       0.68      0.68      0.68      6000\n",
      "\n"
     ]
    }
   ],
   "source": [
    "from sklearn.metrics import classification_report\n",
    "print(classification_report(y_test, y_pred))"
   ]
  },
  {
   "cell_type": "code",
   "execution_count": 240,
   "metadata": {},
   "outputs": [
    {
     "data": {
      "text/plain": [
       "array([1., 0., 0., ..., 1., 1., 1.])"
      ]
     },
     "execution_count": 240,
     "metadata": {},
     "output_type": "execute_result"
    }
   ],
   "source": [
    "logreg.predict(X_train)"
   ]
  },
  {
   "cell_type": "code",
   "execution_count": 242,
   "metadata": {},
   "outputs": [],
   "source": [
    "train_true = y_train.values\n",
    "test_true = y_test.values\n",
    "train_pred = logreg.predict(X_train)\n",
    "test_pred = logreg.predict(X_test)\n",
    "\n",
    "train_fpr, train_tpr, _ = roc_curve(train_true, train_pred)\n",
    "test_fpr, test_tpr, _ = roc_curve(test_true, test_pred)\n",
    "train_auc = np.round(auc(train_fpr, train_tpr), 3)\n",
    "test_auc = np.round(auc(test_fpr, test_tpr), 3)"
   ]
  },
  {
   "cell_type": "code",
   "execution_count": 243,
   "metadata": {},
   "outputs": [
    {
     "data": {
      "image/png": "[encoded data removed]",
      "text/plain": [
       "<Figure size 576x432 with 1 Axes>"
      ]
     },
     "metadata": {
      "needs_background": "light"
     },
     "output_type": "display_data"
    }
   ],
   "source": [
    "fig, ax = plt.subplots(figsize=(8, 6))\n",
    "ax.plot(train_fpr, train_tpr, label='Train AUC: ' + str(train_auc))\n",
    "ax.plot(test_fpr, test_tpr, label='Test AUC: ' + str(test_auc))\n",
    "ax.set_xlabel('False Positive Rate', fontsize=12)\n",
    "ax.set_ylabel('True Positive Rate', fontsize=12)\n",
    "ax.legend(fontsize=12)\n",
    "plt.show()"
   ]
  },
  {
   "cell_type": "markdown",
   "metadata": {},
   "source": [
    "**<font color='blue'>Among those variable whose P values are below 0.05, we have variables:**\n",
    "    * user_past_purchases         \n",
    "    * email_text_short_email\n",
    "    * email_version_personalized\n",
    "    * all days exclude Friday \n",
    "    * user_country_UK\n",
    "    * user_country_US     \n",
    "    * hour_10\n",
    "    * hour_11\n",
    "    * hour_12\n",
    "    * hour_15\n",
    "    * hour_16\n",
    "    * hour_20\n",
    "    * hour_23\n",
    "    * hour_9\n",
    "   \n",
    "\n",
    "**<font color='blue'>which hold positive coef., which means that they have positive impact on link_click</font>**"
   ]
  },
  {
   "cell_type": "markdown",
   "metadata": {},
   "source": [
    "\n",
    "\n"
   ]
  },
  {
   "cell_type": "markdown",
   "metadata": {},
   "source": [
    "## Select postive impact variables in dataset"
   ]
  },
  {
   "cell_type": "code",
   "execution_count": 246,
   "metadata": {},
   "outputs": [
    {
     "data": {
      "text/html": [
       "<div>\n",
       "<style scoped>\n",
       "    .dataframe tbody tr th:only-of-type {\n",
       "        vertical-align: middle;\n",
       "    }\n",
       "\n",
       "    .dataframe tbody tr th {\n",
       "        vertical-align: top;\n",
       "    }\n",
       "\n",
       "    .dataframe thead th {\n",
       "        text-align: right;\n",
       "    }\n",
       "</style>\n",
       "<table border=\"1\" class=\"dataframe\">\n",
       "  <thead>\n",
       "    <tr style=\"text-align: right;\">\n",
       "      <th></th>\n",
       "      <th>email_id</th>\n",
       "      <th>email_text</th>\n",
       "      <th>email_version</th>\n",
       "      <th>hour</th>\n",
       "      <th>weekday</th>\n",
       "      <th>user_country</th>\n",
       "      <th>user_past_purchases</th>\n",
       "      <th>email_open</th>\n",
       "      <th>link_click</th>\n",
       "    </tr>\n",
       "  </thead>\n",
       "  <tbody>\n",
       "    <tr>\n",
       "      <th>0</th>\n",
       "      <td>85120</td>\n",
       "      <td>short_email</td>\n",
       "      <td>personalized</td>\n",
       "      <td>2</td>\n",
       "      <td>Sunday</td>\n",
       "      <td>US</td>\n",
       "      <td>5</td>\n",
       "      <td>0.0</td>\n",
       "      <td>0.0</td>\n",
       "    </tr>\n",
       "    <tr>\n",
       "      <th>1</th>\n",
       "      <td>966622</td>\n",
       "      <td>long_email</td>\n",
       "      <td>personalized</td>\n",
       "      <td>12</td>\n",
       "      <td>Sunday</td>\n",
       "      <td>UK</td>\n",
       "      <td>2</td>\n",
       "      <td>1.0</td>\n",
       "      <td>1.0</td>\n",
       "    </tr>\n",
       "    <tr>\n",
       "      <th>2</th>\n",
       "      <td>777221</td>\n",
       "      <td>long_email</td>\n",
       "      <td>personalized</td>\n",
       "      <td>11</td>\n",
       "      <td>Wednesday</td>\n",
       "      <td>US</td>\n",
       "      <td>2</td>\n",
       "      <td>0.0</td>\n",
       "      <td>0.0</td>\n",
       "    </tr>\n",
       "    <tr>\n",
       "      <th>3</th>\n",
       "      <td>493711</td>\n",
       "      <td>short_email</td>\n",
       "      <td>generic</td>\n",
       "      <td>6</td>\n",
       "      <td>Monday</td>\n",
       "      <td>UK</td>\n",
       "      <td>1</td>\n",
       "      <td>0.0</td>\n",
       "      <td>0.0</td>\n",
       "    </tr>\n",
       "    <tr>\n",
       "      <th>4</th>\n",
       "      <td>106887</td>\n",
       "      <td>long_email</td>\n",
       "      <td>generic</td>\n",
       "      <td>14</td>\n",
       "      <td>Monday</td>\n",
       "      <td>US</td>\n",
       "      <td>6</td>\n",
       "      <td>0.0</td>\n",
       "      <td>0.0</td>\n",
       "    </tr>\n",
       "  </tbody>\n",
       "</table>\n",
       "</div>"
      ],
      "text/plain": [
       "   email_id   email_text email_version  hour    weekday user_country  \\\n",
       "0     85120  short_email  personalized     2     Sunday           US   \n",
       "1    966622   long_email  personalized    12     Sunday           UK   \n",
       "2    777221   long_email  personalized    11  Wednesday           US   \n",
       "3    493711  short_email       generic     6     Monday           UK   \n",
       "4    106887   long_email       generic    14     Monday           US   \n",
       "\n",
       "   user_past_purchases  email_open  link_click  \n",
       "0                    5         0.0         0.0  \n",
       "1                    2         1.0         1.0  \n",
       "2                    2         0.0         0.0  \n",
       "3                    1         0.0         0.0  \n",
       "4                    6         0.0         0.0  "
      ]
     },
     "execution_count": 246,
     "metadata": {},
     "output_type": "execute_result"
    }
   ],
   "source": [
    "df_merge.head()"
   ]
  },
  {
   "cell_type": "code",
   "execution_count": 247,
   "metadata": {},
   "outputs": [
    {
     "data": {
      "text/plain": [
       "array(['Sunday', 'Wednesday', 'Monday', 'Saturday', 'Friday', 'Tuesday',\n",
       "       'Thursday'], dtype=object)"
      ]
     },
     "execution_count": 247,
     "metadata": {},
     "output_type": "execute_result"
    }
   ],
   "source": [
    "df_merge['weekday'].unique()"
   ]
  },
  {
   "cell_type": "code",
   "execution_count": 265,
   "metadata": {},
   "outputs": [
    {
     "data": {
      "text/plain": [
       "(5560, 9)"
      ]
     },
     "execution_count": 265,
     "metadata": {},
     "output_type": "execute_result"
    }
   ],
   "source": [
    "df_merge_change.shape"
   ]
  },
  {
   "cell_type": "code",
   "execution_count": 292,
   "metadata": {},
   "outputs": [],
   "source": [
    "# exclude friday\n",
    "df_merge_change = df_merge[df_merge['weekday'] != 'Friday']\n",
    "#hours\n",
    "df_merge_change = df_merge_change[df_merge_change['hour'].isin([10,11,12,15,16,20,23,9])]\n",
    "#country\n",
    "df_merge_change = df_merge_change[df_merge_change['user_country'].isin(['UK','US'])]\n",
    "#user_past_purchase\n",
    "df_merge_change = df_merge_change[df_merge_change['user_past_purchases']>0]\n",
    "# email_text\n",
    "df_merge_change = df_merge_change[df_merge_change['email_text']== 'short_email']\n",
    "# email_version\n",
    "df_merge_change = df_merge_change[df_merge_change['email_version']== 'personalized']"
   ]
  },
  {
   "cell_type": "code",
   "execution_count": null,
   "metadata": {},
   "outputs": [],
   "source": []
  },
  {
   "cell_type": "code",
   "execution_count": 293,
   "metadata": {},
   "outputs": [
    {
     "name": "stdout",
     "output_type": "stream",
     "text": [
      "The updated strategy increase the conversion rate by 0.03312654676258993\n"
     ]
    }
   ],
   "source": [
    "print(\"The updated strategy increase the conversion rate by\" ,df_merge_change['link_click'].mean() - df_merge['link_click'].mean())"
   ]
  },
  {
   "cell_type": "markdown",
   "metadata": {},
   "source": [
    "## Run Hypothesis Test to see if it happened by chance"
   ]
  },
  {
   "cell_type": "code",
   "execution_count": 300,
   "metadata": {},
   "outputs": [],
   "source": [
    "##split control group and test group\n",
    "df_ctrl = df_merge\n",
    "df_exp = df_merge_change\n",
    "\n",
    "def expect_buyer_multiple(df, n):\n",
    "    return [df.sample(frac=0.1, replace=False)['link_click'].mean() for i in range(n)]\n",
    "\n",
    "exp_ctrl = expect_buyer_multiple(df_ctrl,3000)\n",
    "exp_test = expect_buyer_multiple(df_exp,3000)\n",
    "\n",
    "\n",
    "plt.figure(figsize=[20,10])\n",
    "plt.hist(exp_ctrl,30, histtype='stepfilled', color='blue', alpha=0.50, label='ctrl')\n",
    "plt.hist(exp_test,30, histtype='stepfilled', color='red', alpha=0.50, label='test')\n",
    "plt.legend(loc='upper right', fontsize=30)\n",
    "plt.xlabel('Expectation for email conversion rate', fontsize=30)\n",
    "plt.ylabel('Frequency', fontsize=30)\n",
    "plt.xticks(fontsize=30)\n",
    "plt.yticks(fontsize=30)"
   ]
  },
  {
   "cell_type": "code",
   "execution_count": 301,
   "metadata": {},
   "outputs": [
    {
     "data": {
      "text/plain": [
       "(array([  0., 100., 200., 300., 400., 500.]),\n",
       " <a list of 6 Text yticklabel objects>)"
      ]
     },
     "execution_count": 301,
     "metadata": {},
     "output_type": "execute_result"
    },
    {
     "data": {
      "image/png": "[encoded data removed]",
      "text/plain": [
       "<Figure size 1440x720 with 1 Axes>"
      ]
     },
     "metadata": {
      "needs_background": "light"
     },
     "output_type": "display_data"
    }
   ],
   "source": [
    "\n"
   ]
  },
  {
   "cell_type": "markdown",
   "metadata": {},
   "source": [
    "According to the calculation just now, the mean of test gropu is 3.3% higher than the control group. Now we need to run a hypythesis test to see if this 3.3% increase happens by chance.\n",
    "* H0: Test <= Control\n",
    "* H1: Test > Control"
   ]
  },
  {
   "cell_type": "code",
   "execution_count": 296,
   "metadata": {},
   "outputs": [
    {
     "name": "stdout",
     "output_type": "stream",
     "text": [
      "reject H0\n"
     ]
    }
   ],
   "source": [
    "Ttest_indResult = stats.ttest_ind(df_exp['link_click'], df_ctrl['link_click'], axis=0, equal_var=True)\n",
    "\n",
    "if Ttest_indResult.pvalue/2 > 0.05:\n",
    "  print(\"fail to reject null H0\")\n",
    "elif Ttest_indResult.pvalue/2 <= 0.05:\n",
    "  print(\"reject H0\")"
   ]
  },
  {
   "cell_type": "markdown",
   "metadata": {},
   "source": [
    "## **<font color='blue'>According to the result of the A/B Testing, we reject the Null hypothesis in favor of accepting we do increase the conversion by the testing**"
   ]
  },
  {
   "cell_type": "code",
   "execution_count": null,
   "metadata": {},
   "outputs": [],
   "source": []
  }
 ],
 "metadata": {
  "kernelspec": {
   "display_name": "Python 3",
   "language": "python",
   "name": "python3"
  },
  "language_info": {
   "codemirror_mode": {
    "name": "ipython",
    "version": 3
   },
   "file_extension": ".py",
   "mimetype": "text/x-python",
   "name": "python",
   "nbconvert_exporter": "python",
   "pygments_lexer": "ipython3",
   "version": "3.7.3"
  }
 },
 "nbformat": 4,
 "nbformat_minor": 2
}
